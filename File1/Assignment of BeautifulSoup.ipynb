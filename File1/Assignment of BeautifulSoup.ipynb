{
 "cells": [
  {
   "cell_type": "markdown",
   "id": "6da494bf",
   "metadata": {},
   "source": [
    "# BeautifulSoup Practice questions"
   ]
  },
  {
   "cell_type": "code",
   "execution_count": 4,
   "id": "67c3498c",
   "metadata": {},
   "outputs": [
    {
     "name": "stdout",
     "output_type": "stream",
     "text": [
      "Requirement already satisfied: bs4 in c:\\users\\shubham\\anaconda3\\lib\\site-packages (0.0.2)\n",
      "Requirement already satisfied: beautifulsoup4 in c:\\users\\shubham\\anaconda3\\lib\\site-packages (from bs4) (4.12.2)\n",
      "Requirement already satisfied: soupsieve>1.2 in c:\\users\\shubham\\anaconda3\\lib\\site-packages (from beautifulsoup4->bs4) (2.4)\n",
      "Requirement already satisfied: requests in c:\\users\\shubham\\anaconda3\\lib\\site-packages (2.29.0)\n",
      "Requirement already satisfied: charset-normalizer<4,>=2 in c:\\users\\shubham\\anaconda3\\lib\\site-packages (from requests) (2.0.4)\n",
      "Requirement already satisfied: idna<4,>=2.5 in c:\\users\\shubham\\anaconda3\\lib\\site-packages (from requests) (3.4)\n",
      "Requirement already satisfied: urllib3<1.27,>=1.21.1 in c:\\users\\shubham\\anaconda3\\lib\\site-packages (from requests) (1.26.16)\n",
      "Requirement already satisfied: certifi>=2017.4.17 in c:\\users\\shubham\\anaconda3\\lib\\site-packages (from requests) (2023.5.7)\n"
     ]
    }
   ],
   "source": [
    "!pip install bs4\n",
    "!pip install requests"
   ]
  },
  {
   "cell_type": "code",
   "execution_count": 5,
   "id": "55cb48a3",
   "metadata": {},
   "outputs": [],
   "source": []
  },
  {
   "cell_type": "code",
   "execution_count": null,
   "id": "dd2d6ccb",
   "metadata": {},
   "outputs": [],
   "source": []
  },
  {
   "cell_type": "code",
   "execution_count": null,
   "id": "4d8ae357",
   "metadata": {},
   "outputs": [],
   "source": []
  },
  {
   "cell_type": "code",
   "execution_count": null,
   "id": "bc2236f8",
   "metadata": {},
   "outputs": [],
   "source": [
    "1) Write a python program to display all the header tags from wikipedia.org."
   ]
  },
  {
   "cell_type": "code",
   "execution_count": 8,
   "id": "240aa08b",
   "metadata": {},
   "outputs": [],
   "source": [
    "import bs4 as BeautifulSoup\n",
    "import requests\n",
    "\n",
    "page = requests.get('https://en.wikipedia.org/wiki/Main_Page')"
   ]
  },
  {
   "cell_type": "code",
   "execution_count": 9,
   "id": "f025761c",
   "metadata": {},
   "outputs": [
    {
     "data": {
      "text/plain": [
       "<Response [200]>"
      ]
     },
     "execution_count": 9,
     "metadata": {},
     "output_type": "execute_result"
    }
   ],
   "source": [
    "page"
   ]
  },
  {
   "cell_type": "code",
   "execution_count": 11,
   "id": "36869623",
   "metadata": {},
   "outputs": [
    {
     "ename": "TypeError",
     "evalue": "'module' object is not callable",
     "output_type": "error",
     "traceback": [
      "\u001b[1;31m---------------------------------------------------------------------------\u001b[0m",
      "\u001b[1;31mTypeError\u001b[0m                                 Traceback (most recent call last)",
      "Cell \u001b[1;32mIn[11], line 1\u001b[0m\n\u001b[1;32m----> 1\u001b[0m soup \u001b[38;5;241m=\u001b[39m BeautifulSoup(page\u001b[38;5;241m.\u001b[39mcontent)\n",
      "\u001b[1;31mTypeError\u001b[0m: 'module' object is not callable"
     ]
    }
   ],
   "source": []
  },
  {
   "cell_type": "code",
   "execution_count": 23,
   "id": "ff3f63d3",
   "metadata": {},
   "outputs": [],
   "source": [
    "\n",
    "from bs4 import BeautifulSoup\n",
    "import requests\n",
    "\n",
    "page = requests.get('https://en.wikipedia.org/wiki/Main_Page')\n",
    "\n",
    "soup = BeautifulSoup(page.content)\n",
    "\n",
    "header_tags = ['h1', 'h2']\n",
    "\n",
    "h1 = []\n",
    "h2 = []\n",
    "\n",
    "for tag_name in header_tags:\n",
    "    for tag in soup.find_all(tag_name):\n",
    "        if tag_name == 'h1':\n",
    "            h1.append(tag.text)\n",
    "        elif tag_name == 'h2':\n",
    "            h2.append(tag.text)\n",
    "    "
   ]
  },
  {
   "cell_type": "code",
   "execution_count": 25,
   "id": "d71b8ad6",
   "metadata": {},
   "outputs": [
    {
     "data": {
      "text/plain": [
       "['Main Page', 'Welcome to Wikipedia']"
      ]
     },
     "execution_count": 25,
     "metadata": {},
     "output_type": "execute_result"
    }
   ],
   "source": [
    "h1"
   ]
  },
  {
   "cell_type": "code",
   "execution_count": 26,
   "id": "47341da1",
   "metadata": {
    "scrolled": true
   },
   "outputs": [
    {
     "data": {
      "text/plain": [
       "[\"From today's featured article\",\n",
       " 'Did you know\\xa0...',\n",
       " 'In the news',\n",
       " 'On this day',\n",
       " \"Today's featured picture\",\n",
       " 'Other areas of Wikipedia',\n",
       " \"Wikipedia's sister projects\",\n",
       " 'Wikipedia languages']"
      ]
     },
     "execution_count": 26,
     "metadata": {},
     "output_type": "execute_result"
    }
   ],
   "source": [
    "h2"
   ]
  },
  {
   "cell_type": "code",
   "execution_count": null,
   "id": "4d3e5857",
   "metadata": {},
   "outputs": [],
   "source": []
  },
  {
   "cell_type": "code",
   "execution_count": null,
   "id": "1f8a2faf",
   "metadata": {},
   "outputs": [],
   "source": [
    "Write a python program to display IMDB’s Top rated 100 movies’ data (i.e. name, rating, year\n",
    "of release) and make data frame."
   ]
  },
  {
   "cell_type": "code",
   "execution_count": 31,
   "id": "10b1dc8d",
   "metadata": {},
   "outputs": [],
   "source": [
    "\n",
    "name = [ ]\n",
    "rating = [ ]\n",
    "year = [ ]\n",
    "\n",
    "page = requests.get('https://www.imdb.com/list/ls091520106/')\n",
    "\n",
    "soup = BeautifulSoup(page.content)\n",
    "\n",
    "for y in soup.find_all('h3', class_=\"lister-item-header\"):\n",
    "    name.append(y.text)\n",
    "    \n",
    "for y in soup.find_all('div', class_=\"ipl-rating-star small\"):\n",
    "    rating.append(y.text)\n",
    "    \n",
    "for y in soup.find_all('span', class_=\"lister-item-year text-muted unbold\"):\n",
    "    year.append(y.text)"
   ]
  },
  {
   "cell_type": "code",
   "execution_count": 32,
   "id": "9c5b9d03",
   "metadata": {},
   "outputs": [
    {
     "data": {
      "text/plain": [
       "['\\n1.\\nThe Shawshank Redemption\\n(1994)\\n',\n",
       " '\\n2.\\nThe Godfather\\n(1972)\\n',\n",
       " '\\n3.\\nThe Godfather Part II\\n(1974)\\n',\n",
       " '\\n4.\\nThe Dark Knight\\n(2008)\\n',\n",
       " '\\n5.\\n12 Angry Men\\n(1957)\\n',\n",
       " \"\\n6.\\nSchindler's List\\n(1993)\\n\",\n",
       " '\\n7.\\nThe Lord of the Rings: The Return of the King\\n(2003)\\n',\n",
       " '\\n8.\\nPulp Fiction\\n(1994)\\n',\n",
       " '\\n9.\\nIl buono, il brutto, il cattivo\\n(1966)\\n',\n",
       " '\\n10.\\nFight Club\\n(1999)\\n',\n",
       " '\\n11.\\nJoker\\n(I) (2019)\\n',\n",
       " '\\n12.\\nThe Lord of the Rings: The Fellowship of the Ring\\n(2001)\\n',\n",
       " '\\n13.\\nForrest Gump\\n(1994)\\n',\n",
       " '\\n14.\\nInception\\n(2010)\\n',\n",
       " '\\n15.\\nStar Wars: Episode V - The Empire Strikes Back\\n(1980)\\n',\n",
       " '\\n16.\\nThe Lord of the Rings: The Two Towers\\n(2002)\\n',\n",
       " '\\n17.\\nThe Matrix\\n(1999)\\n',\n",
       " \"\\n18.\\nOne Flew Over the Cuckoo's Nest\\n(1975)\\n\",\n",
       " '\\n19.\\nGoodfellas\\n(1990)\\n',\n",
       " '\\n20.\\nShichinin no samurai\\n(1954)\\n',\n",
       " '\\n21.\\nSe7en\\n(1995)\\n',\n",
       " '\\n22.\\nCidade de Deus\\n(2002)\\n',\n",
       " '\\n23.\\nLa vita è bella\\n(1997)\\n',\n",
       " '\\n24.\\nThe Silence of the Lambs\\n(1991)\\n',\n",
       " '\\n25.\\nStar Wars\\n(1977)\\n',\n",
       " \"\\n26.\\nIt's a Wonderful Life\\n(1946)\\n\",\n",
       " '\\n27.\\nSaving Private Ryan\\n(1998)\\n',\n",
       " '\\n28.\\nSen to Chihiro no kamikakushi\\n(2001)\\n',\n",
       " '\\n29.\\nThe Green Mile\\n(1999)\\n',\n",
       " '\\n30.\\nLéon\\n(1994)\\n',\n",
       " '\\n31.\\nSeppuku\\n(1962)\\n',\n",
       " '\\n32.\\nInterstellar\\n(2014)\\n',\n",
       " '\\n33.\\nThe Usual Suspects\\n(1995)\\n',\n",
       " '\\n34.\\nThe Lion King\\n(1994)\\n',\n",
       " '\\n35.\\nAmerican History X\\n(1998)\\n',\n",
       " '\\n36.\\nBack to the Future\\n(1985)\\n',\n",
       " '\\n37.\\nThe Pianist\\n(2002)\\n',\n",
       " '\\n38.\\nModern Times\\n(1936)\\n',\n",
       " '\\n39.\\nTerminator 2: Judgment Day\\n(1991)\\n',\n",
       " '\\n40.\\nThe Intouchables\\n(2011)\\n',\n",
       " '\\n41.\\nPsycho\\n(1960)\\n',\n",
       " '\\n42.\\nGladiator\\n(2000)\\n',\n",
       " '\\n43.\\nCity Lights\\n(1931)\\n',\n",
       " '\\n44.\\nThe Departed\\n(2006)\\n',\n",
       " '\\n45.\\nWhiplash\\n(2014)\\n',\n",
       " '\\n46.\\nOnce Upon a Time in the West\\n(1968)\\n',\n",
       " '\\n47.\\nThe Prestige\\n(2006)\\n',\n",
       " '\\n48.\\nAvengers: Endgame\\n(2019)\\n',\n",
       " '\\n49.\\nCasablanca\\n(1942)\\n',\n",
       " '\\n50.\\nHotaru no haka\\n(1988)\\n',\n",
       " '\\n51.\\nRear Window\\n(1954)\\n',\n",
       " '\\n52.\\nNuovo Cinema Paradiso\\n(1988)\\n',\n",
       " '\\n53.\\nAlien\\n(1979)\\n',\n",
       " '\\n54.\\nRaiders of the Lost Ark\\n(1981)\\n',\n",
       " '\\n55.\\nMemento\\n(2000)\\n',\n",
       " '\\n56.\\nApocalypse Now\\n(1979)\\n',\n",
       " '\\n57.\\nThe Great Dictator\\n(1940)\\n',\n",
       " '\\n58.\\nThe Lives of Others\\n(2006)\\n',\n",
       " '\\n59.\\nAvengers: Infinity War\\n(2018)\\n',\n",
       " '\\n60.\\nDjango Unchained\\n(2012)\\n',\n",
       " '\\n61.\\nSpider-Man: Into the Spider-Verse\\n(2018)\\n',\n",
       " '\\n62.\\nThe Shining\\n(1980)\\n',\n",
       " '\\n63.\\nPaths of Glory\\n(1957)\\n',\n",
       " '\\n64.\\nWALL·E\\n(2008)\\n',\n",
       " '\\n65.\\nSunset Boulevard\\n(1950)\\n',\n",
       " '\\n66.\\nDr. Strangelove or: How I Learned to Stop Worrying and Love the Bomb\\n(1964)\\n',\n",
       " '\\n67.\\nMononoke-hime\\n(1997)\\n',\n",
       " '\\n68.\\nOldeuboi\\n(2003)\\n',\n",
       " '\\n69.\\nWitness for the Prosecution\\n(1957)\\n',\n",
       " '\\n70.\\nThe Dark Knight Rises\\n(2012)\\n',\n",
       " '\\n71.\\nOnce Upon a Time in America\\n(1984)\\n',\n",
       " '\\n72.\\nGisaengchung\\n(2019)\\n',\n",
       " '\\n73.\\nAliens\\n(1986)\\n',\n",
       " '\\n74.\\nAmerican Beauty\\n(1999)\\n',\n",
       " '\\n75.\\nCoco\\n(I) (2017)\\n',\n",
       " '\\n76.\\nKimi no na wa.\\n(2016)\\n',\n",
       " '\\n77.\\nBraveheart\\n(1995)\\n',\n",
       " '\\n78.\\nDas Boot\\n(1981)\\n',\n",
       " '\\n79.\\n3 Idiots\\n(2009)\\n',\n",
       " '\\n80.\\nTaare Zameen Par\\n(2007)\\n',\n",
       " '\\n81.\\nStar Wars: Episode VI - Return of the Jedi\\n(1983)\\n',\n",
       " '\\n82.\\nToy Story\\n(1995)\\n',\n",
       " '\\n83.\\nReservoir Dogs\\n(1992)\\n',\n",
       " '\\n84.\\nAmadeus\\n(1984)\\n',\n",
       " '\\n85.\\nDangal\\n(2016)\\n',\n",
       " '\\n86.\\nGood Will Hunting\\n(1997)\\n',\n",
       " '\\n87.\\nInglourious Basterds\\n(2009)\\n',\n",
       " '\\n88.\\nM - Eine Stadt sucht einen Mörder\\n(1931)\\n',\n",
       " '\\n89.\\nRequiem for a Dream\\n(2000)\\n',\n",
       " '\\n90.\\n2001: A Space Odyssey\\n(1968)\\n',\n",
       " '\\n91.\\nVertigo\\n(1958)\\n',\n",
       " '\\n92.\\nEternal Sunshine of the Spotless Mind\\n(2004)\\n',\n",
       " '\\n93.\\nCitizen Kane\\n(1941)\\n',\n",
       " '\\n94.\\nFull Metal Jacket\\n(1987)\\n',\n",
       " '\\n95.\\nJagten\\n(2012)\\n',\n",
       " '\\n96.\\nNorth by Northwest\\n(1959)\\n',\n",
       " '\\n97.\\nA Clockwork Orange\\n(1971)\\n',\n",
       " '\\n98.\\nSnatch\\n(2000)\\n',\n",
       " \"\\n99.\\nLe fabuleux destin d'Amélie Poulain\\n(2001)\\n\",\n",
       " '\\n100.\\nThe Kid\\n(1921)\\n']"
      ]
     },
     "execution_count": 32,
     "metadata": {},
     "output_type": "execute_result"
    }
   ],
   "source": [
    "name"
   ]
  },
  {
   "cell_type": "code",
   "execution_count": 33,
   "id": "ae4224f8",
   "metadata": {},
   "outputs": [
    {
     "data": {
      "text/plain": [
       "['\\n\\n\\n\\n\\n\\n\\n\\n9.3\\n',\n",
       " '\\n\\n\\n\\n\\n\\n\\n\\n9.2\\n',\n",
       " '\\n\\n\\n\\n\\n\\n\\n\\n9\\n',\n",
       " '\\n\\n\\n\\n\\n\\n\\n\\n9\\n',\n",
       " '\\n\\n\\n\\n\\n\\n\\n\\n9\\n',\n",
       " '\\n\\n\\n\\n\\n\\n\\n\\n9\\n',\n",
       " '\\n\\n\\n\\n\\n\\n\\n\\n9\\n',\n",
       " '\\n\\n\\n\\n\\n\\n\\n\\n8.9\\n',\n",
       " '\\n\\n\\n\\n\\n\\n\\n\\n8.8\\n',\n",
       " '\\n\\n\\n\\n\\n\\n\\n\\n8.8\\n',\n",
       " '\\n\\n\\n\\n\\n\\n\\n\\n8.4\\n',\n",
       " '\\n\\n\\n\\n\\n\\n\\n\\n8.9\\n',\n",
       " '\\n\\n\\n\\n\\n\\n\\n\\n8.8\\n',\n",
       " '\\n\\n\\n\\n\\n\\n\\n\\n8.8\\n',\n",
       " '\\n\\n\\n\\n\\n\\n\\n\\n8.7\\n',\n",
       " '\\n\\n\\n\\n\\n\\n\\n\\n8.8\\n',\n",
       " '\\n\\n\\n\\n\\n\\n\\n\\n8.7\\n',\n",
       " '\\n\\n\\n\\n\\n\\n\\n\\n8.7\\n',\n",
       " '\\n\\n\\n\\n\\n\\n\\n\\n8.7\\n',\n",
       " '\\n\\n\\n\\n\\n\\n\\n\\n8.6\\n',\n",
       " '\\n\\n\\n\\n\\n\\n\\n\\n8.6\\n',\n",
       " '\\n\\n\\n\\n\\n\\n\\n\\n8.6\\n',\n",
       " '\\n\\n\\n\\n\\n\\n\\n\\n8.6\\n',\n",
       " '\\n\\n\\n\\n\\n\\n\\n\\n8.6\\n',\n",
       " '\\n\\n\\n\\n\\n\\n\\n\\n8.6\\n',\n",
       " '\\n\\n\\n\\n\\n\\n\\n\\n8.6\\n',\n",
       " '\\n\\n\\n\\n\\n\\n\\n\\n8.6\\n',\n",
       " '\\n\\n\\n\\n\\n\\n\\n\\n8.6\\n',\n",
       " '\\n\\n\\n\\n\\n\\n\\n\\n8.6\\n',\n",
       " '\\n\\n\\n\\n\\n\\n\\n\\n8.5\\n',\n",
       " '\\n\\n\\n\\n\\n\\n\\n\\n8.6\\n',\n",
       " '\\n\\n\\n\\n\\n\\n\\n\\n8.7\\n',\n",
       " '\\n\\n\\n\\n\\n\\n\\n\\n8.5\\n',\n",
       " '\\n\\n\\n\\n\\n\\n\\n\\n8.5\\n',\n",
       " '\\n\\n\\n\\n\\n\\n\\n\\n8.5\\n',\n",
       " '\\n\\n\\n\\n\\n\\n\\n\\n8.5\\n',\n",
       " '\\n\\n\\n\\n\\n\\n\\n\\n8.5\\n',\n",
       " '\\n\\n\\n\\n\\n\\n\\n\\n8.5\\n',\n",
       " '\\n\\n\\n\\n\\n\\n\\n\\n8.6\\n',\n",
       " '\\n\\n\\n\\n\\n\\n\\n\\n8.5\\n',\n",
       " '\\n\\n\\n\\n\\n\\n\\n\\n8.5\\n',\n",
       " '\\n\\n\\n\\n\\n\\n\\n\\n8.5\\n',\n",
       " '\\n\\n\\n\\n\\n\\n\\n\\n8.5\\n',\n",
       " '\\n\\n\\n\\n\\n\\n\\n\\n8.5\\n',\n",
       " '\\n\\n\\n\\n\\n\\n\\n\\n8.5\\n',\n",
       " '\\n\\n\\n\\n\\n\\n\\n\\n8.5\\n',\n",
       " '\\n\\n\\n\\n\\n\\n\\n\\n8.5\\n',\n",
       " '\\n\\n\\n\\n\\n\\n\\n\\n8.4\\n',\n",
       " '\\n\\n\\n\\n\\n\\n\\n\\n8.5\\n',\n",
       " '\\n\\n\\n\\n\\n\\n\\n\\n8.5\\n',\n",
       " '\\n\\n\\n\\n\\n\\n\\n\\n8.5\\n',\n",
       " '\\n\\n\\n\\n\\n\\n\\n\\n8.5\\n',\n",
       " '\\n\\n\\n\\n\\n\\n\\n\\n8.5\\n',\n",
       " '\\n\\n\\n\\n\\n\\n\\n\\n8.4\\n',\n",
       " '\\n\\n\\n\\n\\n\\n\\n\\n8.4\\n',\n",
       " '\\n\\n\\n\\n\\n\\n\\n\\n8.4\\n',\n",
       " '\\n\\n\\n\\n\\n\\n\\n\\n8.4\\n',\n",
       " '\\n\\n\\n\\n\\n\\n\\n\\n8.4\\n',\n",
       " '\\n\\n\\n\\n\\n\\n\\n\\n8.4\\n',\n",
       " '\\n\\n\\n\\n\\n\\n\\n\\n8.5\\n',\n",
       " '\\n\\n\\n\\n\\n\\n\\n\\n8.4\\n',\n",
       " '\\n\\n\\n\\n\\n\\n\\n\\n8.4\\n',\n",
       " '\\n\\n\\n\\n\\n\\n\\n\\n8.4\\n',\n",
       " '\\n\\n\\n\\n\\n\\n\\n\\n8.4\\n',\n",
       " '\\n\\n\\n\\n\\n\\n\\n\\n8.4\\n',\n",
       " '\\n\\n\\n\\n\\n\\n\\n\\n8.4\\n',\n",
       " '\\n\\n\\n\\n\\n\\n\\n\\n8.3\\n',\n",
       " '\\n\\n\\n\\n\\n\\n\\n\\n8.3\\n',\n",
       " '\\n\\n\\n\\n\\n\\n\\n\\n8.4\\n',\n",
       " '\\n\\n\\n\\n\\n\\n\\n\\n8.4\\n',\n",
       " '\\n\\n\\n\\n\\n\\n\\n\\n8.3\\n',\n",
       " '\\n\\n\\n\\n\\n\\n\\n\\n8.5\\n',\n",
       " '\\n\\n\\n\\n\\n\\n\\n\\n8.4\\n',\n",
       " '\\n\\n\\n\\n\\n\\n\\n\\n8.3\\n',\n",
       " '\\n\\n\\n\\n\\n\\n\\n\\n8.4\\n',\n",
       " '\\n\\n\\n\\n\\n\\n\\n\\n8.4\\n',\n",
       " '\\n\\n\\n\\n\\n\\n\\n\\n8.3\\n',\n",
       " '\\n\\n\\n\\n\\n\\n\\n\\n8.4\\n',\n",
       " '\\n\\n\\n\\n\\n\\n\\n\\n8.4\\n',\n",
       " '\\n\\n\\n\\n\\n\\n\\n\\n8.3\\n',\n",
       " '\\n\\n\\n\\n\\n\\n\\n\\n8.3\\n',\n",
       " '\\n\\n\\n\\n\\n\\n\\n\\n8.3\\n',\n",
       " '\\n\\n\\n\\n\\n\\n\\n\\n8.3\\n',\n",
       " '\\n\\n\\n\\n\\n\\n\\n\\n8.4\\n',\n",
       " '\\n\\n\\n\\n\\n\\n\\n\\n8.3\\n',\n",
       " '\\n\\n\\n\\n\\n\\n\\n\\n8.3\\n',\n",
       " '\\n\\n\\n\\n\\n\\n\\n\\n8.4\\n',\n",
       " '\\n\\n\\n\\n\\n\\n\\n\\n8.3\\n',\n",
       " '\\n\\n\\n\\n\\n\\n\\n\\n8.3\\n',\n",
       " '\\n\\n\\n\\n\\n\\n\\n\\n8.3\\n',\n",
       " '\\n\\n\\n\\n\\n\\n\\n\\n8.3\\n',\n",
       " '\\n\\n\\n\\n\\n\\n\\n\\n8.3\\n',\n",
       " '\\n\\n\\n\\n\\n\\n\\n\\n8.3\\n',\n",
       " '\\n\\n\\n\\n\\n\\n\\n\\n8.3\\n',\n",
       " '\\n\\n\\n\\n\\n\\n\\n\\n8.3\\n',\n",
       " '\\n\\n\\n\\n\\n\\n\\n\\n8.3\\n',\n",
       " '\\n\\n\\n\\n\\n\\n\\n\\n8.3\\n',\n",
       " '\\n\\n\\n\\n\\n\\n\\n\\n8.2\\n',\n",
       " '\\n\\n\\n\\n\\n\\n\\n\\n8.3\\n',\n",
       " '\\n\\n\\n\\n\\n\\n\\n\\n8.2\\n']"
      ]
     },
     "execution_count": 33,
     "metadata": {},
     "output_type": "execute_result"
    }
   ],
   "source": [
    "rating"
   ]
  },
  {
   "cell_type": "code",
   "execution_count": 34,
   "id": "39440652",
   "metadata": {},
   "outputs": [
    {
     "data": {
      "text/plain": [
       "['(1994)',\n",
       " '(1972)',\n",
       " '(1974)',\n",
       " '(2008)',\n",
       " '(1957)',\n",
       " '(1993)',\n",
       " '(2003)',\n",
       " '(1994)',\n",
       " '(1966)',\n",
       " '(1999)',\n",
       " '(I) (2019)',\n",
       " '(2001)',\n",
       " '(1994)',\n",
       " '(2010)',\n",
       " '(1980)',\n",
       " '(2002)',\n",
       " '(1999)',\n",
       " '(1975)',\n",
       " '(1990)',\n",
       " '(1954)',\n",
       " '(1995)',\n",
       " '(2002)',\n",
       " '(1997)',\n",
       " '(1991)',\n",
       " '(1977)',\n",
       " '(1946)',\n",
       " '(1998)',\n",
       " '(2001)',\n",
       " '(1999)',\n",
       " '(1994)',\n",
       " '(1962)',\n",
       " '(2014)',\n",
       " '(1995)',\n",
       " '(1994)',\n",
       " '(1998)',\n",
       " '(1985)',\n",
       " '(2002)',\n",
       " '(1936)',\n",
       " '(1991)',\n",
       " '(2011)',\n",
       " '(1960)',\n",
       " '(2000)',\n",
       " '(1931)',\n",
       " '(2006)',\n",
       " '(2014)',\n",
       " '(1968)',\n",
       " '(2006)',\n",
       " '(2019)',\n",
       " '(1942)',\n",
       " '(1988)',\n",
       " '(1954)',\n",
       " '(1988)',\n",
       " '(1979)',\n",
       " '(1981)',\n",
       " '(2000)',\n",
       " '(1979)',\n",
       " '(1940)',\n",
       " '(2006)',\n",
       " '(2018)',\n",
       " '(2012)',\n",
       " '(2018)',\n",
       " '(1980)',\n",
       " '(1957)',\n",
       " '(2008)',\n",
       " '(1950)',\n",
       " '(1964)',\n",
       " '(1997)',\n",
       " '(2003)',\n",
       " '(1957)',\n",
       " '(2012)',\n",
       " '(1984)',\n",
       " '(2019)',\n",
       " '(1986)',\n",
       " '(1999)',\n",
       " '(I) (2017)',\n",
       " '(2016)',\n",
       " '(1995)',\n",
       " '(1981)',\n",
       " '(2009)',\n",
       " '(2007)',\n",
       " '(1983)',\n",
       " '(1995)',\n",
       " '(1992)',\n",
       " '(1984)',\n",
       " '(2016)',\n",
       " '(1997)',\n",
       " '(2009)',\n",
       " '(1931)',\n",
       " '(2000)',\n",
       " '(1968)',\n",
       " '(1958)',\n",
       " '(2004)',\n",
       " '(1941)',\n",
       " '(1987)',\n",
       " '(2012)',\n",
       " '(1959)',\n",
       " '(1971)',\n",
       " '(2000)',\n",
       " '(2001)',\n",
       " '(1921)']"
      ]
     },
     "execution_count": 34,
     "metadata": {},
     "output_type": "execute_result"
    }
   ],
   "source": [
    "year"
   ]
  },
  {
   "cell_type": "code",
   "execution_count": null,
   "id": "f86be7b6",
   "metadata": {},
   "outputs": [],
   "source": []
  },
  {
   "cell_type": "code",
   "execution_count": null,
   "id": "d9d75166",
   "metadata": {},
   "outputs": [],
   "source": []
  },
  {
   "cell_type": "code",
   "execution_count": null,
   "id": "7992b977",
   "metadata": {},
   "outputs": [],
   "source": [
    "Write a python program to scrape mentioned details from dineout.co.in : i) Restaurant name\n",
    "ii) Cuisine iii) Location iv) Ratings v) Image URL."
   ]
  },
  {
   "cell_type": "code",
   "execution_count": 44,
   "id": "b96e7e77",
   "metadata": {},
   "outputs": [],
   "source": [
    "\n",
    "rest_name = [ ]\n",
    "cuisine = [ ]\n",
    "location = [ ]\n",
    "ratings = [ ]\n",
    "img_link = [ ]\n",
    "\n",
    "page = requests.get('https://www.dineout.co.in/mumbai-restaurants?search_str=mumbai')\n",
    "\n",
    "soup = BeautifulSoup(page.content)\n",
    "\n",
    "for y in soup.find_all('a', class_=\"restnt-name ellipsis\"):\n",
    "    rest_name.append(y.text)\n",
    "    \n",
    "for y in soup.find_all('span', class_=\"double-line-ellipsis\"):\n",
    "    cuisine.append(y.text)\n",
    "    \n",
    "for y in soup.find_all('div', class_=\"restnt-loc ellipsis\"):\n",
    "    location.append(y.text)\n",
    "                       \n",
    "for y in soup.find_all('div', class_=\"restnt-rating\"):\n",
    "    ratings.append(y.text)\n",
    "                       \n",
    "for y in soup.find_all('img', class_=\"no-img\"):\n",
    "    img_link.append(y['data-src'])                       "
   ]
  },
  {
   "cell_type": "code",
   "execution_count": 38,
   "id": "14a241ae",
   "metadata": {},
   "outputs": [
    {
     "data": {
      "text/plain": [
       "<Response [200]>"
      ]
     },
     "execution_count": 38,
     "metadata": {},
     "output_type": "execute_result"
    }
   ],
   "source": [
    "page"
   ]
  },
  {
   "cell_type": "code",
   "execution_count": 39,
   "id": "b5d90429",
   "metadata": {},
   "outputs": [
    {
     "data": {
      "text/plain": [
       "['Dragonfly Experience',\n",
       " 'Mainland China',\n",
       " 'Kake Da Hotel',\n",
       " 'Thambbi',\n",
       " 'Cream Centre- Ghatkopar West',\n",
       " 'Khandani Rajdhani',\n",
       " \"Grandmama's Cafe\",\n",
       " 'Sigree Global Grill',\n",
       " 'Urban Tadka',\n",
       " 'Bombay Martini',\n",
       " 'Malgudi',\n",
       " 'Cinnabon',\n",
       " 'PizzaExpress',\n",
       " 'Mad Over Donuts',\n",
       " 'Little Punjab',\n",
       " 'Hoppipola',\n",
       " \"Kareem's\",\n",
       " 'Waffle World',\n",
       " 'Chili’s American Grill and Bar',\n",
       " 'Bayroute',\n",
       " 'Taco Bell']"
      ]
     },
     "execution_count": 39,
     "metadata": {},
     "output_type": "execute_result"
    }
   ],
   "source": [
    "rest_name"
   ]
  },
  {
   "cell_type": "code",
   "execution_count": 40,
   "id": "ad79ff94",
   "metadata": {},
   "outputs": [
    {
     "data": {
      "text/plain": [
       "['https://im1.dineout.co.in/images/uploads/restaurant/sharpen/4/i/s/p43855-15611901395d0ddefb9590d.jpg?tr=tr:n-medium',\n",
       " 'https://im1.dineout.co.in/images/uploads/restaurant/sharpen/1/g/f/p12593-1453111795569cb9f3aabf3.jpg?tr=tr:n-medium',\n",
       " 'https://im1.dineout.co.in/images/uploads/restaurant/sharpen/8/a/s/p89882-1615626320604c8050d193e.jpg?tr=tr:n-medium',\n",
       " 'https://im1.dineout.co.in/images/uploads/restaurant/sharpen/6/j/r/p6327-15758008765decd02c49d1a.jpg?tr=tr:n-medium',\n",
       " 'https://im1.dineout.co.in/images/uploads/restaurant/sharpen/6/l/m/p6576-17011739076565da930ace6.jpg?tr=tr:n-medium',\n",
       " 'https://im1.dineout.co.in/images/uploads/restaurant/sharpen/8/c/b/p8020-149087739958dcfbd7ebb73.jpg?tr=tr:n-medium',\n",
       " 'https://im1.dineout.co.in/images/uploads/restaurant/sharpen/4/a/i/p4364-163214454461488ca0a77fc.jpg?tr=tr:n-medium',\n",
       " 'https://im1.dineout.co.in/images/uploads/restaurant/sharpen/9/s/o/p9884-16621888756312fd4b0c44a.jpg?tr=tr:n-medium',\n",
       " 'https://im1.dineout.co.in/images/uploads/restaurant/sharpen/6/q/i/p6049-167205282163a980557b529.jpg?tr=tr:n-medium',\n",
       " 'https://im1.dineout.co.in/images/uploads/restaurant/sharpen/1/x/h/p105983-165814949962d55a7b2ceba.jpg?tr=tr:n-medium',\n",
       " 'https://im1.dineout.co.in/images/uploads/restaurant/sharpen/8/u/f/p807-15510888885c73bcf89fd8f.jpg?tr=tr:n-medium',\n",
       " 'https://im1.dineout.co.in/images/uploads/restaurant/sharpen/4/a/x/p4690-15421980045bec12f45217c.jpg?tr=tr:n-medium',\n",
       " 'https://im1.dineout.co.in/images/uploads/restaurant/sharpen/7/p/e/p737-148757585558aa9b2f99519.jpg?tr=tr:n-medium',\n",
       " 'https://im1.dineout.co.in/images/uploads/restaurant/sharpen/4/b/e/p40-16468304496228a37136fe7.jpg?tr=tr:n-medium',\n",
       " 'https://im1.dineout.co.in/images/uploads/restaurant/sharpen/3/l/y/p34256-16466349056225a799947eb.jpg?tr=tr:n-medium',\n",
       " 'https://im1.dineout.co.in/images/uploads/restaurant/sharpen/3/f/q/p3577-1499088621595a46ed1c3bb.jpg?tr=tr:n-medium',\n",
       " 'https://im1.dineout.co.in/images/uploads/restaurant/sharpen/3/f/o/p3700-162133704460a3a3d49149d.jpg?tr=tr:n-medium',\n",
       " 'https://im1.dineout.co.in/images/uploads/restaurant/sharpen/7/v/d/p7605-1648016323623abbc39beb5.jpg?tr=tr:n-medium',\n",
       " 'https://im1.dineout.co.in/images/uploads/restaurant/sharpen/3/d/j/p3696-147851946558206aa9950ee.jpg?tr=tr:n-medium',\n",
       " 'https://im1.dineout.co.in/images/uploads/restaurant/sharpen/5/h/r/p50009-16843832406465a60820268.jpg?tr=tr:n-medium',\n",
       " 'https://im1.dineout.co.in/images/uploads/restaurant/sharpen/3/d/k/p3614-16058672985fb7972260786.jpg?tr=tr:n-medium']"
      ]
     },
     "execution_count": 40,
     "metadata": {},
     "output_type": "execute_result"
    }
   ],
   "source": [
    "img_link"
   ]
  },
  {
   "cell_type": "code",
   "execution_count": 41,
   "id": "f8faa412",
   "metadata": {},
   "outputs": [
    {
     "data": {
      "text/plain": [
       "['₹ 2,700 for 2 (approx) | Chinese, Continental, Sushi, Asian, European, Beverages',\n",
       " '₹ 1,200 for 2 (approx) | Chinese, Asian, Thai',\n",
       " '₹ 800 for 2 (approx) | Chinese, North Indian, Biryani',\n",
       " '₹ 800 for 2 (approx) | South Indian, North Indian',\n",
       " '₹ 1,400 for 2 (approx) | North Indian, Fast Food, Italian, Mexican, Beverages',\n",
       " '₹ 1,200 for 2 (approx) | Gujarati, Rajasthani, North Indian',\n",
       " '₹ 1,200 for 2 (approx) | Continental, Italian, Beverages',\n",
       " '₹ 1,500 for 2 (approx) | North Indian, Biryani',\n",
       " '₹ 1,500 for 2 (approx) | North Indian, Mughlai',\n",
       " '₹ 1,900 for 2 (approx) | Finger Food, North Indian, Continental',\n",
       " '₹ 600 for 2 (approx) | South Indian',\n",
       " '₹ 500 for 2 (approx) | Desserts',\n",
       " '₹ 1,600 for 2 (approx) | Italian, Pizza',\n",
       " '₹ 500 for 2 (approx) | Desserts, Beverages',\n",
       " '₹ 900 for 2 (approx) | North Indian, Mughlai, Biryani',\n",
       " '₹ 1,400 for 2 (approx) | Continental, Finger Food, Italian',\n",
       " '₹ 1,200 for 2 (approx) | Mughlai, North Indian',\n",
       " '₹ 400 for 2 (approx) | Desserts',\n",
       " '₹ 2,000 for 2 (approx) | American, Mexican, Tex Mex',\n",
       " '₹ 3,800 for 2 (approx) | Arabian, Middle Eastern, Desserts',\n",
       " '₹ 500 for 2 (approx) | Tex Mex']"
      ]
     },
     "execution_count": 41,
     "metadata": {},
     "output_type": "execute_result"
    }
   ],
   "source": [
    "cuisine"
   ]
  },
  {
   "cell_type": "code",
   "execution_count": 42,
   "id": "f388e3c6",
   "metadata": {},
   "outputs": [
    {
     "data": {
      "text/plain": [
       "['Sahar Airport Road, Andheri East',\n",
       " 'Hiranandani, Powai',\n",
       " 'Vikhroli West, Central Suburbs',\n",
       " 'Kailash Business Park,Vikhroli West, Central Suburbs',\n",
       " 'R City Mall,Ghatkopar West, Central Suburbs',\n",
       " 'R City Mall,Ghatkopar West, Central Suburbs',\n",
       " 'R City Mall,Ghatkopar West, Central Suburbs',\n",
       " 'Ventura Building,Powai, Powai',\n",
       " 'R City Mall,Ghatkopar West, Central Suburbs',\n",
       " 'Kailash Towers,Powai, Powai',\n",
       " 'R City Mall,Ghatkopar West, Central Suburbs',\n",
       " 'R City Mall,Ghatkopar West, Central Suburbs',\n",
       " 'Powai, Powai',\n",
       " 'R City Mall,Ghatkopar West, Central Suburbs',\n",
       " 'Galleria Shopping Centre,Powai, Powai',\n",
       " 'Galleria Shopping Centre,Powai, Powai',\n",
       " 'Galleria Shopping Centre,Powai, Powai',\n",
       " 'R City Mall,Ghatkopar West, Central Suburbs',\n",
       " 'Powai, Powai',\n",
       " 'Transocean House,Powai, Powai',\n",
       " 'R City Mall,Ghatkopar West, Central Suburbs']"
      ]
     },
     "execution_count": 42,
     "metadata": {},
     "output_type": "execute_result"
    }
   ],
   "source": [
    "location"
   ]
  },
  {
   "cell_type": "code",
   "execution_count": 45,
   "id": "b5c379e6",
   "metadata": {},
   "outputs": [
    {
     "data": {
      "text/plain": [
       "['3.4',\n",
       " '4.3',\n",
       " '4.4',\n",
       " '4.3',\n",
       " '4.4',\n",
       " '4.3',\n",
       " '4.4',\n",
       " '4.3',\n",
       " '4.3',\n",
       " '4.3',\n",
       " '4.2',\n",
       " '4.3',\n",
       " '4.3',\n",
       " '4.3',\n",
       " '4.3',\n",
       " '4.3',\n",
       " '4.3',\n",
       " '4.3',\n",
       " '4.1',\n",
       " '4.3',\n",
       " '5',\n",
       " '4.3',\n",
       " '3.9',\n",
       " '4.3',\n",
       " '4.4',\n",
       " '4.3',\n",
       " '4.2',\n",
       " '4.3',\n",
       " '4',\n",
       " '4.3',\n",
       " '4.3',\n",
       " '4.3',\n",
       " '4.2',\n",
       " '4.3',\n",
       " '5',\n",
       " '4.3',\n",
       " '4.2',\n",
       " '4.3',\n",
       " '4.5',\n",
       " '4.3',\n",
       " '4',\n",
       " '4.3']"
      ]
     },
     "execution_count": 45,
     "metadata": {},
     "output_type": "execute_result"
    }
   ],
   "source": [
    "ratings"
   ]
  },
  {
   "cell_type": "code",
   "execution_count": null,
   "id": "5eb75dda",
   "metadata": {},
   "outputs": [],
   "source": [
    "Write s python program to display list of respected former finance minister of India(i.e.\n",
    "Name , Term of office) from https://presidentofindia.nic.in/former-presidents.htm and make\n",
    "data frame."
   ]
  },
  {
   "cell_type": "code",
   "execution_count": 55,
   "id": "f8bca13a",
   "metadata": {},
   "outputs": [],
   "source": [
    "\n",
    "name = [ ]\n",
    "tenure = [ ]\n",
    "\n",
    "page = requests.get('https://presidentofindia.nic.in/former-presidents')\n",
    "\n",
    "soup = BeautifulSoup(page.content)\n",
    "\n",
    "for y in soup.find_all('h3'):\n",
    "    name.append(y.text)\n",
    "    \n",
    "for y in soup.find_all('h5'):\n",
    "    tenure.append(y.text)\n",
    "    \n",
    "                       "
   ]
  },
  {
   "cell_type": "code",
   "execution_count": 48,
   "id": "5cc13b5f",
   "metadata": {},
   "outputs": [
    {
     "data": {
      "text/plain": [
       "<Response [200]>"
      ]
     },
     "execution_count": 48,
     "metadata": {},
     "output_type": "execute_result"
    }
   ],
   "source": [
    "page"
   ]
  },
  {
   "cell_type": "code",
   "execution_count": 56,
   "id": "8aa53523",
   "metadata": {},
   "outputs": [
    {
     "data": {
      "text/plain": [
       "['Shri Ram Nath Kovind',\n",
       " 'Shri Pranab Mukherjee',\n",
       " 'Smt Pratibha Devisingh Patil',\n",
       " 'DR. A.P.J. Abdul Kalam',\n",
       " 'Shri K. R. Narayanan',\n",
       " 'Dr Shankar Dayal Sharma',\n",
       " 'Shri R Venkataraman',\n",
       " 'Giani Zail Singh',\n",
       " 'Shri Neelam Sanjiva Reddy',\n",
       " 'Dr. Fakhruddin Ali Ahmed',\n",
       " 'Shri Varahagiri Venkata Giri',\n",
       " 'Dr. Zakir Husain',\n",
       " 'Dr. Sarvepalli Radhakrishnan',\n",
       " 'Dr. Rajendra Prasad']"
      ]
     },
     "execution_count": 56,
     "metadata": {},
     "output_type": "execute_result"
    }
   ],
   "source": [
    "name"
   ]
  },
  {
   "cell_type": "code",
   "execution_count": 57,
   "id": "279d8c60",
   "metadata": {},
   "outputs": [
    {
     "data": {
      "text/plain": [
       "['14th President of India',\n",
       " '13th President of India',\n",
       " '12th President of India',\n",
       " '11th President of India',\n",
       " '10th President of India',\n",
       " '9th  President of India',\n",
       " '8th President of India',\n",
       " '7th President of India',\n",
       " '6th President of India',\n",
       " '5th President of India',\n",
       " '4th President of India',\n",
       " '3rd President of India',\n",
       " '2nd President of India',\n",
       " '1st President of India']"
      ]
     },
     "execution_count": 57,
     "metadata": {},
     "output_type": "execute_result"
    }
   ],
   "source": [
    "tenure"
   ]
  },
  {
   "cell_type": "code",
   "execution_count": null,
   "id": "e1c6eecc",
   "metadata": {},
   "outputs": [],
   "source": []
  }
 ],
 "metadata": {
  "kernelspec": {
   "display_name": "Python 3 (ipykernel)",
   "language": "python",
   "name": "python3"
  },
  "language_info": {
   "codemirror_mode": {
    "name": "ipython",
    "version": 3
   },
   "file_extension": ".py",
   "mimetype": "text/x-python",
   "name": "python",
   "nbconvert_exporter": "python",
   "pygments_lexer": "ipython3",
   "version": "3.11.3"
  }
 },
 "nbformat": 4,
 "nbformat_minor": 5
}
