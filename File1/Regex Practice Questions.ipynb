{
 "cells": [
  {
   "cell_type": "markdown",
   "id": "da467a2b",
   "metadata": {},
   "source": [
    "# Practice Questions for Regular Expressions in Python"
   ]
  },
  {
   "cell_type": "markdown",
   "id": "03be0bea",
   "metadata": {},
   "source": [
    "Question 1- Write a RegEx pattern in python program to check that a string contains only a certain set of\n",
    "characters (in this case a-z, A-Z and 0-9).\n"
   ]
  },
  {
   "cell_type": "code",
   "execution_count": 14,
   "id": "f95f6ccb",
   "metadata": {},
   "outputs": [
    {
     "name": "stdout",
     "output_type": "stream",
     "text": [
      "['Hello', 'my', 'name', 'is', 'shubham', 'dupare', 'and', 'i', 'have', 'these', 'symbols', '7742', 'numbers']\n"
     ]
    }
   ],
   "source": [
    "import re\n",
    "import regex\n",
    "str = \"Hello, my name is shubham dupare and i have these symbols @-! @7742 numbers\"\n",
    "\n",
    "match = re.findall('\\w+', str)\n",
    "print(match)\n"
   ]
  },
  {
   "cell_type": "markdown",
   "id": "fb1340bd",
   "metadata": {},
   "source": [
    "Question 2- Write a RegEx pattern that matches a string that has an a followed by zero or more b's"
   ]
  },
  {
   "cell_type": "code",
   "execution_count": 49,
   "id": "3eb89f53",
   "metadata": {},
   "outputs": [
    {
     "name": "stdout",
     "output_type": "stream",
     "text": [
      "['These', 'are', 'the', 'rhyming', 'words', 'of', 'crab', 'that', 'is', 'tab', 'cab', 'and', 'lab', 'mbb']\n"
     ]
    }
   ],
   "source": [
    "import re\n",
    "str = \"These are the rhyming words of crab, that is tab, cab, lab, and carbb\"\n",
    "\n",
    "match = re.findall(r'\\w+b*\\b', str)\n",
    "print(match)"
   ]
  },
  {
   "cell_type": "markdown",
   "id": "405cd44f",
   "metadata": {},
   "source": [
    "Question 3- Write a RegEx pattern that matches a string that has an a followed by one or more b's"
   ]
  },
  {
   "cell_type": "code",
   "execution_count": 62,
   "id": "1584184f",
   "metadata": {},
   "outputs": [
    {
     "name": "stdout",
     "output_type": "stream",
     "text": [
      "['crab', 'tab', 'cab', 'lab', 'carbb']\n"
     ]
    }
   ],
   "source": [
    "import re\n",
    "str = \"These are the rhyming words of crab, that is tab, cab, lab, and carbb\"\n",
    "\n",
    "match = re.findall(r\"\\w+b+\\b\", str)\n",
    "print(match)"
   ]
  },
  {
   "cell_type": "markdown",
   "id": "3a0b5dac",
   "metadata": {},
   "source": [
    "Question 4- Write a RegEx pattern that matches a string that has an a followed by zero or one b;."
   ]
  },
  {
   "cell_type": "code",
   "execution_count": 108,
   "id": "853d1647",
   "metadata": {},
   "outputs": [
    {
     "name": "stdout",
     "output_type": "stream",
     "text": [
      "['These', 'are', 'the', 'rhyming', 'words', 'of', 'crab', 'that', 'is', 'tab', 'cab', 'lab', 'and', 'carbb']\n"
     ]
    }
   ],
   "source": [
    "import re\n",
    "str = \"These are the rhyming words of crab, that is tab, cab, lab, and carbb\" \n",
    "\n",
    "match = re.findall(r\"\\w+b?\\b\", str)\n",
    "print(match)  # why it's matching carbb i cannot understand. since it's asked zero or 1 b, maybe if else condition has to be used"
   ]
  },
  {
   "cell_type": "markdown",
   "id": "40a3e76d",
   "metadata": {},
   "source": [
    "Question 5- Write a RegEx pattern in python program that matches a string that has an a followed by\n",
    "three &#39;b&#39;."
   ]
  },
  {
   "cell_type": "code",
   "execution_count": 71,
   "id": "28bdf139",
   "metadata": {
    "scrolled": true
   },
   "outputs": [
    {
     "name": "stdout",
     "output_type": "stream",
     "text": [
      "['carbbb']\n"
     ]
    }
   ],
   "source": [
    "import re\n",
    "str = \" These are the rhyming words of crab, that is tab, cab, lab, carbb and carbbb \"\n",
    "\n",
    "match = re.findall(r\"\\w+b{3}\\b\", str)\n",
    "print(match)"
   ]
  },
  {
   "cell_type": "markdown",
   "id": "88deaa7c",
   "metadata": {},
   "source": [
    "Question 6- Write a RegEx pattern in python program that matches a string that has an a followed by\n",
    "two to three b;."
   ]
  },
  {
   "cell_type": "code",
   "execution_count": 86,
   "id": "86c79ec1",
   "metadata": {},
   "outputs": [
    {
     "name": "stdout",
     "output_type": "stream",
     "text": [
      "['carbb', 'carbbb']\n"
     ]
    }
   ],
   "source": [
    "import re\n",
    "str = \" These are the rhyming words of crab, that is tab, cab, lab, carbb and carbbb \"\n",
    "\n",
    "match = re.findall(r\"\\w+b{2,3}\\b\", str)\n",
    "print(match)"
   ]
  },
  {
   "cell_type": "markdown",
   "id": "84473ec2",
   "metadata": {},
   "source": [
    "Question 7- Write a Python program that matches a string that has an 'a' followed by anything, ending in\n",
    "b."
   ]
  },
  {
   "cell_type": "code",
   "execution_count": 90,
   "id": "cdf5e414",
   "metadata": {},
   "outputs": [
    {
     "name": "stdout",
     "output_type": "stream",
     "text": [
      "['arbb', 'arbbb']\n"
     ]
    }
   ],
   "source": [
    "import re\n",
    "str = \"These are the rhyming words of cab, that is tab, cab, lab, carbb and carbbb\"\n",
    "\n",
    "match = re.findall(r\"a\\w+b\\b\", str)\n",
    "print(match)"
   ]
  },
  {
   "cell_type": "markdown",
   "id": "2569b328",
   "metadata": {},
   "source": [
    "Question 8- Write a RegEx pattern in python program that matches a word at the beginning of a string."
   ]
  },
  {
   "cell_type": "code",
   "execution_count": 92,
   "id": "d76d5acb",
   "metadata": {},
   "outputs": [
    {
     "name": "stdout",
     "output_type": "stream",
     "text": [
      "['These']\n"
     ]
    }
   ],
   "source": [
    "import re\n",
    "str = \"These are the rhyming words of cab, that is tab, cab, lab, carbb and carbbb\"\n",
    "\n",
    "match = re.findall(r\"^These\", str)\n",
    "print(match)"
   ]
  },
  {
   "cell_type": "markdown",
   "id": "97a8eeab",
   "metadata": {},
   "source": [
    "Question 9- Write a RegEx pattern in python program that matches a word at the end of a string."
   ]
  },
  {
   "cell_type": "code",
   "execution_count": 95,
   "id": "4ca7a0f0",
   "metadata": {},
   "outputs": [
    {
     "name": "stdout",
     "output_type": "stream",
     "text": [
      "[]\n"
     ]
    }
   ],
   "source": [
    "import re\n",
    "str = \"These are the rhyming words of cab, that is tab, cab, lab, carbb and carbbb\"\n",
    "\n",
    "match = re.findall(r\"carbbb$\", str)\n",
    "print(match)"
   ]
  },
  {
   "cell_type": "markdown",
   "id": "d7dd4d75",
   "metadata": {},
   "source": [
    "Question 10- Write a RegEx pattern in python program to find all words that are 4 digits long in a string.\n",
    "Sample text- [01 0132 231875 1458 301 2725]\n",
    "Expected output- ['0132','1458','2725']"
   ]
  },
  {
   "cell_type": "code",
   "execution_count": 105,
   "id": "f24c9011",
   "metadata": {},
   "outputs": [
    {
     "name": "stdout",
     "output_type": "stream",
     "text": [
      "['0132', '2318', '1458', '2725']\n"
     ]
    }
   ],
   "source": [
    "import re\n",
    "\n",
    "str = \" 01 0132 231875 1458 301 2725\"\n",
    "\n",
    "match = re.findall(r\"\\d{4}\", str)\n",
    "print(match)"
   ]
  },
  {
   "cell_type": "code",
   "execution_count": null,
   "id": "fc07b836",
   "metadata": {},
   "outputs": [],
   "source": []
  },
  {
   "cell_type": "code",
   "execution_count": null,
   "id": "cf62054f",
   "metadata": {},
   "outputs": [],
   "source": []
  },
  {
   "cell_type": "code",
   "execution_count": null,
   "id": "9f357de0",
   "metadata": {},
   "outputs": [],
   "source": []
  }
 ],
 "metadata": {
  "kernelspec": {
   "display_name": "Python 3 (ipykernel)",
   "language": "python",
   "name": "python3"
  },
  "language_info": {
   "codemirror_mode": {
    "name": "ipython",
    "version": 3
   },
   "file_extension": ".py",
   "mimetype": "text/x-python",
   "name": "python",
   "nbconvert_exporter": "python",
   "pygments_lexer": "ipython3",
   "version": "3.11.3"
  }
 },
 "nbformat": 4,
 "nbformat_minor": 5
}
